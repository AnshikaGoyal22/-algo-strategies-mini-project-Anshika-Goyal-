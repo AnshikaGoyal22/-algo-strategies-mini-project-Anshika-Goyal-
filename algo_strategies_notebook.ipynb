{
  "nbformat": 4,
  "nbformat_minor": 0,
  "metadata": {
    "colab": {
      "provenance": [],
      "authorship_tag": "ABX9TyNJeKeOPCEZDfZe3ei2FRNC",
      "include_colab_link": true
    },
    "kernelspec": {
      "name": "python3",
      "display_name": "Python 3"
    },
    "language_info": {
      "name": "python"
    }
  },
  "cells": [
    {
      "cell_type": "markdown",
      "metadata": {
        "id": "view-in-github",
        "colab_type": "text"
      },
      "source": [
        "<a href=\"https://colab.research.google.com/github/AnshikaGoyal22/-algo-strategies-mini-project-Anshika-Goyal-/blob/main/algo_strategies_notebook.ipynb\" target=\"_parent\"><img src=\"https://colab.research.google.com/assets/colab-badge.svg\" alt=\"Open In Colab\"/></a>"
      ]
    },
    {
      "cell_type": "code",
      "execution_count": 1,
      "metadata": {
        "colab": {
          "base_uri": "https://localhost:8080/"
        },
        "id": "WnqZgiMOckGw",
        "outputId": "c4875c9b-1577-4bad-d420-16d784a1e21b"
      },
      "outputs": [
        {
          "output_type": "stream",
          "name": "stdout",
          "text": [
            "Collecting memory_profiler\n",
            "  Downloading memory_profiler-0.61.0-py3-none-any.whl.metadata (20 kB)\n",
            "Requirement already satisfied: psutil in /usr/local/lib/python3.12/dist-packages (from memory_profiler) (5.9.5)\n",
            "Downloading memory_profiler-0.61.0-py3-none-any.whl (31 kB)\n",
            "Installing collected packages: memory_profiler\n",
            "Successfully installed memory_profiler-0.61.0\n"
          ]
        }
      ],
      "source": [
        "!pip install memory_profiler"
      ]
    },
    {
      "cell_type": "code",
      "source": [
        "import matplotlib.pyplot as plt\n",
        "import numpy as np\n",
        "from memory_profiler import memory_usage\n",
        "import time"
      ],
      "metadata": {
        "id": "GtKfVWwfc2Bu"
      },
      "execution_count": 2,
      "outputs": []
    },
    {
      "cell_type": "markdown",
      "source": [
        "Problem 1: Scheduling TV Commercials to Maximize Impact"
      ],
      "metadata": {
        "id": "YQU8JX0zfsdw"
      }
    },
    {
      "cell_type": "code",
      "source": [
        "ads = [\n",
        "    {\"id\": \"ad1\", \"deadline\": 2, \"profit\": 100},\n",
        "    {\"id\": \"ad2\", \"deadline\": 1, \"profit\": 19},\n",
        "    {\"id\": \"ad3\", \"deadline\": 2, \"profit\": 27},\n",
        "    {\"id\": \"ad4\", \"deadline\": 1, \"profit\": 25},\n",
        "    {\"id\": \"ad5\", \"deadline\": 3, \"profit\": 15},\n",
        "]"
      ],
      "metadata": {
        "id": "Rv3p0TARc90I"
      },
      "execution_count": 3,
      "outputs": []
    },
    {
      "cell_type": "code",
      "source": [
        "# Sort ads in descending order by profit\n",
        "sorted_ads = sorted(ads, key=lambda x: x['profit'], reverse=True)\n",
        "\n",
        "# Find maximum deadline to know number of slots\n",
        "max_deadline = max(ad['deadline'] for ad in ads)\n",
        "\n",
        "# Initialize slots: -1 means free slot\n",
        "slots = [-1] * max_deadline\n",
        "\n",
        "# Result list to hold scheduled ads\n",
        "scheduled_ads = [None] * max_deadline\n",
        "\n",
        "for ad in sorted_ads:\n",
        "    for slot in range(ad['deadline'] - 1, -1, -1):\n",
        "        if slots[slot] == -1:\n",
        "            slots[slot] = 1\n",
        "            scheduled_ads[slot] = ad['id']\n",
        "            break\n",
        "\n",
        "print(\"Scheduled commercials in slots:\", scheduled_ads)"
      ],
      "metadata": {
        "colab": {
          "base_uri": "https://localhost:8080/"
        },
        "id": "oPCHFC3udI7J",
        "outputId": "53c256fb-f141-4cd0-bc69-dc1634ada1cd"
      },
      "execution_count": 4,
      "outputs": [
        {
          "output_type": "stream",
          "name": "stdout",
          "text": [
            "Scheduled commercials in slots: ['ad3', 'ad1', 'ad5']\n"
          ]
        }
      ]
    },
    {
      "cell_type": "code",
      "source": [
        "import time\n",
        "from memory_profiler import memory_usage\n",
        "import matplotlib.pyplot as plt\n",
        "\n",
        "def schedule_ads(ads):\n",
        "    sorted_ads = sorted(ads, key=lambda x: x['profit'], reverse=True)\n",
        "    max_deadline = max(ad['deadline'] for ad in ads)\n",
        "    slots = [-1] * max_deadline\n",
        "    scheduled_ads = [None] * max_deadline\n",
        "\n",
        "    for ad in sorted_ads:\n",
        "        for slot in range(ad['deadline'] - 1, -1, -1):\n",
        "            if slots[slot] == -1:\n",
        "                slots[slot] = 1\n",
        "                scheduled_ads[slot] = ad['id']\n",
        "                break\n",
        "    return scheduled_ads\n",
        "\n",
        "# Profile time\n",
        "start = time.time()\n",
        "mem_usage = memory_usage((schedule_ads, (ads,)))\n",
        "end = time.time()\n",
        "\n",
        "elapsed_time = end - start\n",
        "max_mem = max(mem_usage)\n",
        "\n",
        "print(f\"Time taken: {elapsed_time:.6f} seconds\")\n",
        "print(f\"Max memory used: {max_mem:.6f} MiB\")\n",
        "\n",
        "# Plotting\n",
        "plt.bar(['Time (s)', 'Memory (MiB)'], [elapsed_time, max_mem], color=['blue', 'green'])\n",
        "plt.title('Scheduling TV Commercials - Profile')\n",
        "plt.show()"
      ],
      "metadata": {
        "colab": {
          "base_uri": "https://localhost:8080/",
          "height": 487
        },
        "id": "Pnv5UxdldRw4",
        "outputId": "98a99693-7627-4146-8584-a732ad89e4a9"
      },
      "execution_count": 5,
      "outputs": [
        {
          "output_type": "stream",
          "name": "stdout",
          "text": [
            "Time taken: 0.107992 seconds\n",
            "Max memory used: 106.722656 MiB\n"
          ]
        },
        {
          "output_type": "display_data",
          "data": {
            "text/plain": [
              "<Figure size 640x480 with 1 Axes>"
            ],
            "image/png": "[encoded data removed]"
          },
          "metadata": {}
        }
      ]
    },
    {
      "cell_type": "markdown",
      "source": [
        "Problem 2: Maximizing Profit with Limited Budget"
      ],
      "metadata": {
        "id": "ShJOiWn8gDyb"
      }
    },
    {
      "cell_type": "code",
      "source": [
        "items = [\n",
        "    {\"id\": \"item1\", \"weight\": 10, \"value\": 60},\n",
        "    {\"id\": \"item2\", \"weight\": 20, \"value\": 100},\n",
        "    {\"id\": \"item3\", \"weight\": 30, \"value\": 120},\n",
        "]\n",
        "total_budget = 50"
      ],
      "metadata": {
        "id": "fqEIevwSdbIk"
      },
      "execution_count": 6,
      "outputs": []
    },
    {
      "cell_type": "code",
      "source": [
        "def knapsack(items, capacity):\n",
        "    n = len(items)\n",
        "    # Create DP table\n",
        "    dp = [[0 for _ in range(capacity + 1)] for _ in range(n + 1)]\n",
        "\n",
        "    # Build table dp[][] in bottom-up manner\n",
        "    for i in range(1, n + 1):\n",
        "        for w in range(1, capacity + 1):\n",
        "            if items[i-1]['weight'] <= w:\n",
        "                dp[i][w] = max(\n",
        "                    items[i-1]['value'] + dp[i-1][w - items[i-1]['weight']],\n",
        "                    dp[i-1][w]\n",
        "                )\n",
        "            else:\n",
        "                dp[i][w] = dp[i-1][w]\n",
        "\n",
        "    # To find which items are included\n",
        "    w = capacity\n",
        "    selected_items = []\n",
        "    for i in range(n, 0, -1):\n",
        "        if dp[i][w] != dp[i-1][w]:\n",
        "            selected_items.append(items[i-1]['id'])\n",
        "            w -= items[i-1]['weight']\n",
        "\n",
        "    selected_items.reverse()\n",
        "\n",
        "    return dp[n][capacity], selected_items\n",
        "\n",
        "max_profit, selected = knapsack(items, total_budget)\n",
        "print(f\"Maximum profit: {max_profit}\")\n",
        "print(f\"Selected items: {selected}\")"
      ],
      "metadata": {
        "colab": {
          "base_uri": "https://localhost:8080/"
        },
        "id": "oiyB6PGSgQAz",
        "outputId": "dfdf1ca5-1bb1-412c-ab84-273192aae003"
      },
      "execution_count": 7,
      "outputs": [
        {
          "output_type": "stream",
          "name": "stdout",
          "text": [
            "Maximum profit: 220\n",
            "Selected items: ['item2', 'item3']\n"
          ]
        }
      ]
    },
    {
      "cell_type": "code",
      "source": [
        "import time\n",
        "from memory_profiler import memory_usage\n",
        "import matplotlib.pyplot as plt\n",
        "\n",
        "def profile_knapsack(items, capacity):\n",
        "    start = time.time()\n",
        "    mem_usage = memory_usage((knapsack, (items, capacity)))\n",
        "    end = time.time()\n",
        "\n",
        "    elapsed_time = end - start\n",
        "    max_mem = max(mem_usage)\n",
        "\n",
        "    return elapsed_time, max_mem\n",
        "\n",
        "time_taken, max_memory = profile_knapsack(items, total_budget)\n",
        "\n",
        "print(f\"Time taken: {time_taken:.6f} seconds\")\n",
        "print(f\"Max memory used: {max_memory:.6f} MiB\")\n",
        "\n",
        "plt.bar(['Time (s)', 'Memory (MiB)'], [time_taken, max_memory], color=['purple', 'orange'])\n",
        "plt.title('Knapsack Algorithm - Profile')\n",
        "plt.show()"
      ],
      "metadata": {
        "colab": {
          "base_uri": "https://localhost:8080/",
          "height": 487
        },
        "id": "MKtmM6SlgXeD",
        "outputId": "91b0b6b9-ecb4-46e6-9f80-4c7bba342ac6"
      },
      "execution_count": 8,
      "outputs": [
        {
          "output_type": "stream",
          "name": "stdout",
          "text": [
            "Time taken: 0.076543 seconds\n",
            "Max memory used: 111.097656 MiB\n"
          ]
        },
        {
          "output_type": "display_data",
          "data": {
            "text/plain": [
              "<Figure size 640x480 with 1 Axes>"
            ],
            "image/png": "[encoded data removed]"
          },
          "metadata": {}
        }
      ]
    },
    {
      "cell_type": "markdown",
      "source": [
        "Problem 3: Solving Sudoku Puzzle"
      ],
      "metadata": {
        "id": "2cikTegLiH5R"
      }
    },
    {
      "cell_type": "code",
      "source": [
        "sudoku_grid = [\n",
        "    [5, 3, 0, 0, 7, 0, 0, 0, 0],\n",
        "    [6, 0, 0, 1, 9, 5, 0, 0, 0],\n",
        "    [0, 9, 8, 0, 0, 0, 0, 6, 0],\n",
        "    [8, 0, 0, 0, 6, 0, 0, 0, 3],\n",
        "    [4, 0, 0, 8, 0, 3, 0, 0, 1],\n",
        "    [7, 0, 0, 0, 2, 0, 0, 0, 6],\n",
        "    [0, 6, 0, 0, 0, 0, 2, 8, 0],\n",
        "    [0, 0, 0, 4, 1, 9, 0, 0, 5],\n",
        "    [0, 0, 0, 0, 8, 0, 0, 7, 9],\n",
        "]"
      ],
      "metadata": {
        "id": "GhgBvn6CgfD2"
      },
      "execution_count": 9,
      "outputs": []
    },
    {
      "cell_type": "code",
      "source": [
        "def is_valid(board, row, col, num):\n",
        "    # Check if num is not in the current row and column\n",
        "    for i in range(9):\n",
        "        if board[row][i] == num or board[i][col] == num:\n",
        "            return False\n",
        "\n",
        "    # Check the 3x3 subgrid\n",
        "    start_row, start_col = 3 * (row // 3), 3 * (col // 3)\n",
        "    for i in range(start_row, start_row + 3):\n",
        "        for j in range(start_col, start_col + 3):\n",
        "            if board[i][j] == num:\n",
        "                return False\n",
        "\n",
        "    return True\n",
        "\n",
        "def solve_sudoku(board):\n",
        "    for row in range(9):\n",
        "        for col in range(9):\n",
        "            if board[row][col] == 0:\n",
        "                for num in range(1, 10):\n",
        "                    if is_valid(board, row, col, num):\n",
        "                        board[row][col] = num\n",
        "                        if solve_sudoku(board):\n",
        "                            return True\n",
        "                        board[row][col] = 0\n",
        "                return False\n",
        "    return True\n",
        "\n",
        "# Solve and print the sudoku grid\n",
        "if solve_sudoku(sudoku_grid):\n",
        "    for row in sudoku_grid:\n",
        "        print(row)\n",
        "else:\n",
        "    print(\"No solution exists\")"
      ],
      "metadata": {
        "colab": {
          "base_uri": "https://localhost:8080/"
        },
        "id": "HSpNy5lSiMyL",
        "outputId": "76c8e9cf-43b7-4321-bf96-4f975481a554"
      },
      "execution_count": 10,
      "outputs": [
        {
          "output_type": "stream",
          "name": "stdout",
          "text": [
            "[5, 3, 4, 6, 7, 8, 9, 1, 2]\n",
            "[6, 7, 2, 1, 9, 5, 3, 4, 8]\n",
            "[1, 9, 8, 3, 4, 2, 5, 6, 7]\n",
            "[8, 5, 9, 7, 6, 1, 4, 2, 3]\n",
            "[4, 2, 6, 8, 5, 3, 7, 9, 1]\n",
            "[7, 1, 3, 9, 2, 4, 8, 5, 6]\n",
            "[9, 6, 1, 5, 3, 7, 2, 8, 4]\n",
            "[2, 8, 7, 4, 1, 9, 6, 3, 5]\n",
            "[3, 4, 5, 2, 8, 6, 1, 7, 9]\n"
          ]
        }
      ]
    },
    {
      "cell_type": "code",
      "source": [
        "import time\n",
        "from memory_profiler import memory_usage\n",
        "import matplotlib.pyplot as plt\n",
        "\n",
        "def profile_sudoku_solver(board):\n",
        "    start = time.time()\n",
        "    mem_usage = memory_usage((solve_sudoku, (board,)))\n",
        "    end = time.time()\n",
        "\n",
        "    elapsed_time = end - start\n",
        "    max_mem = max(mem_usage)\n",
        "\n",
        "    return elapsed_time, max_mem\n",
        "\n",
        "time_taken, max_memory = profile_sudoku_solver(sudoku_grid)\n",
        "\n",
        "print(f\"Time taken: {time_taken:.6f} seconds\")\n",
        "print(f\"Max memory used: {max_memory:.6f} MiB\")\n",
        "\n",
        "plt.bar(['Time (s)', 'Memory (MiB)'], [time_taken, max_memory], color=['red', 'gray'])\n",
        "plt.title('Sudoku Solver - Profile')\n",
        "plt.show()"
      ],
      "metadata": {
        "colab": {
          "base_uri": "https://localhost:8080/",
          "height": 487
        },
        "id": "HPp6uPsHiURL",
        "outputId": "43f401d9-6cdc-43aa-af13-5c5b4b650acc"
      },
      "execution_count": 11,
      "outputs": [
        {
          "output_type": "stream",
          "name": "stdout",
          "text": [
            "Time taken: 0.091826 seconds\n",
            "Max memory used: 111.097656 MiB\n"
          ]
        },
        {
          "output_type": "display_data",
          "data": {
            "text/plain": [
              "<Figure size 640x480 with 1 Axes>"
            ],
            "image/png": "[encoded data removed]"
          },
          "metadata": {}
        }
      ]
    },
    {
      "cell_type": "markdown",
      "source": [
        "Problem 4: Password Cracking (Naive)"
      ],
      "metadata": {
        "id": "EQ6iD2rjjleh"
      }
    },
    {
      "cell_type": "code",
      "source": [
        "target_password = \"abc\"\n",
        "charset = \"abc123\""
      ],
      "metadata": {
        "id": "2aOm-acRicSM"
      },
      "execution_count": 12,
      "outputs": []
    },
    {
      "cell_type": "code",
      "source": [
        "import itertools\n",
        "import time\n",
        "\n",
        "def brute_force_password(target, charset, max_length=4):\n",
        "    attempt_count = 0\n",
        "    start_time = time.time()\n",
        "\n",
        "    for length in range(1, max_length + 1):\n",
        "        for guess in itertools.product(charset, repeat=length):\n",
        "            attempt_count += 1\n",
        "            guess_str = ''.join(guess)\n",
        "            if guess_str == target:\n",
        "                end_time = time.time()\n",
        "                print(f\"Password found: {guess_str}\")\n",
        "                print(f\"Total attempts: {attempt_count}\")\n",
        "                print(f\"Time taken: {end_time - start_time:.6f} seconds\")\n",
        "                return guess_str, attempt_count, end_time - start_time\n",
        "\n",
        "    print(\"Password not found within max length\")\n",
        "    return None, attempt_count, time.time() - start_time\n",
        "\n",
        "result, attempts, duration = brute_force_password(target_password, charset)"
      ],
      "metadata": {
        "colab": {
          "base_uri": "https://localhost:8080/"
        },
        "id": "R1wf-jPtjom6",
        "outputId": "7ce6aba6-836b-4d1a-c288-789b22942277"
      },
      "execution_count": 13,
      "outputs": [
        {
          "output_type": "stream",
          "name": "stdout",
          "text": [
            "Password found: abc\n",
            "Total attempts: 51\n",
            "Time taken: 0.000018 seconds\n"
          ]
        }
      ]
    },
    {
      "cell_type": "code",
      "source": [
        "import time\n",
        "from memory_profiler import memory_usage\n",
        "import matplotlib.pyplot as plt\n",
        "\n",
        "def profile_bruteforce_password(target, charset):\n",
        "    start = time.time()\n",
        "    mem_usage = memory_usage((brute_force_password, (target, charset)))\n",
        "    end = time.time()\n",
        "\n",
        "    elapsed_time = end - start\n",
        "    max_mem = max(mem_usage)\n",
        "\n",
        "    return elapsed_time, max_mem\n",
        "\n",
        "time_taken, max_memory = profile_bruteforce_password(target_password, charset)\n",
        "\n",
        "print(f\"Time taken: {time_taken:.6f} seconds\")\n",
        "print(f\"Max memory used: {max_memory:.6f} MiB\")\n",
        "\n",
        "plt.bar(['Time (s)', 'Memory (MiB)'], [time_taken, max_memory], color=['cyan', 'magenta'])\n",
        "plt.title('Brute-Force Password Cracker - Profile')\n",
        "plt.show()"
      ],
      "metadata": {
        "colab": {
          "base_uri": "https://localhost:8080/",
          "height": 851
        },
        "id": "tzokDlyojtob",
        "outputId": "18ca648e-597e-49a2-f99b-156bfcc65f0d"
      },
      "execution_count": 14,
      "outputs": [
        {
          "output_type": "stream",
          "name": "stdout",
          "text": [
            "Password found: abc\n",
            "Total attempts: 51\n",
            "Time taken: 0.000072 seconds\n",
            "Password found: abc\n",
            "Total attempts: 51\n",
            "Time taken: 0.000078 seconds\n",
            "Password found: abc\n",
            "Total attempts: 51\n",
            "Time taken: 0.000064 seconds\n",
            "Password found: abc\n",
            "Total attempts: 51\n",
            "Time taken: 0.000066 seconds\n",
            "Password found: abc\n",
            "Total attempts: 51\n",
            "Time taken: 0.000046 seconds\n",
            "Password found: abc\n",
            "Total attempts: 51\n",
            "Time taken: 0.000048 seconds\n",
            "Password found: abc\n",
            "Total attempts: 51\n",
            "Time taken: 0.000055 seconds\n",
            "Time taken: 0.087941 seconds\n",
            "Max memory used: 111.597656 MiB\n"
          ]
        },
        {
          "output_type": "display_data",
          "data": {
            "text/plain": [
              "<Figure size 640x480 with 1 Axes>"
            ],
            "image/png": "[encoded data removed]"
          },
          "metadata": {}
        }
      ]
    }
  ]
}